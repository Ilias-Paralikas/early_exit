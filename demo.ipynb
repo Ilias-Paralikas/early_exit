{
 "cells": [
  {
   "cell_type": "code",
   "execution_count": 1,
   "id": "d24a5610-6a5b-4989-93c3-4ec79201f14d",
   "metadata": {
    "tags": []
   },
   "outputs": [],
   "source": [
    "from early_exit.get_early_exit import create_networks\n",
    "from models import vgg19_bn\n",
    "import torch.nn as nn\n",
    "from copy import deepcopy"
   ]
  },
  {
   "cell_type": "code",
   "execution_count": 2,
   "id": "73d70a95-180f-4e75-a9b9-7071c4fd425e",
   "metadata": {
    "tags": []
   },
   "outputs": [],
   "source": [
    "class SplitModel(nn.Module):\n",
    "    def __init__(self,pretrained_model):\n",
    "        super(SplitModel, self).__init__() \n",
    "        self.device_side_net = deepcopy(pretrained_model.features[:14])\n",
    "        self.server_side_net = deepcopy(pretrained_model.features[14:27])\n",
    "        \n",
    "        self.cloud_net = nn.Sequential(\n",
    "            deepcopy(pretrained_model.features[27:]),\n",
    "            deepcopy(pretrained_model.avgpool),\n",
    "            nn.Flatten(),\n",
    "            deepcopy(pretrained_model.classifier)\n",
    "        )\n",
    "        self.net = nn.Sequential(\n",
    "            self.device_side_net,\n",
    "            self.server_side_net,\n",
    "            self.cloud_net\n",
    "        )\n",
    "        \n",
    "    def forward(self, x):\n",
    "        x = self.net(x)\n",
    "        return x"
   ]
  },
  {
   "cell_type": "code",
   "execution_count": 4,
   "id": "db912d71-0b87-44a0-ae12-777e740a6a0d",
   "metadata": {
    "tags": []
   },
   "outputs": [
    {
     "name": "stdout",
     "output_type": "stream",
     "text": [
      "Downloading https://www.cs.toronto.edu/~kriz/cifar-10-python.tar.gz to data/cifar-10-python.tar.gz\n"
     ]
    },
    {
     "name": "stderr",
     "output_type": "stream",
     "text": [
      "100%|██████████| 170498071/170498071 [00:07<00:00, 22418811.48it/s]\n"
     ]
    },
    {
     "name": "stdout",
     "output_type": "stream",
     "text": [
      "Extracting data/cifar-10-python.tar.gz to data\n"
     ]
    }
   ],
   "source": [
    "import torchvision\n",
    "from torchvision import  transforms\n",
    "import torch\n",
    "transform = transforms.Compose(\n",
    "    [transforms.ToTensor(),\n",
    "     transforms.Normalize((0.5, 0.5, 0.5), (0.5, 0.5, 0.5))])\n",
    "\n",
    "batch_size = 4\n",
    "\n",
    "testset = torchvision.datasets.CIFAR10(root='data', train=False,\n",
    "                                       download=True, transform=transform)\n",
    "testloader = torch.utils.data.DataLoader(testset, batch_size=batch_size,\n",
    "                                         shuffle=False, num_workers=2)\n",
    "\n",
    "\n"
   ]
  },
  {
   "cell_type": "code",
   "execution_count": 5,
   "id": "fafd7713-a87a-4cca-b17b-3e6a817bec54",
   "metadata": {
    "tags": []
   },
   "outputs": [],
   "source": [
    "model = vgg19_bn()\n",
    "model = SplitModel(model)\n"
   ]
  },
  {
   "cell_type": "code",
   "execution_count": 6,
   "id": "093e793e-e7ac-40a1-907c-5cc8bf52b6eb",
   "metadata": {
    "tags": []
   },
   "outputs": [
    {
     "name": "stdout",
     "output_type": "stream",
     "text": [
      "0 loss:  2.2984901827812196\n",
      "1 loss:  2.275150856018066\n",
      "2 loss:  2.2249294378757476\n",
      "3 loss:  2.1505331762313844\n",
      "4 loss:  2.08802056684494\n",
      "Accuracy of exit 0: 31.16%\n",
      "Accuracy of exit 1: 26.61%\n",
      "Accuracy of exit 2: 32.65%\n"
     ]
    }
   ],
   "source": [
    "# Define the input parameters\n",
    "input_shape = (1, 3, 32, 32)\n",
    "thresholds = [0.8, 0.9, 0.9]\n",
    "neurons_in_exit_layers = [[1024,1025], [1024,1024]]\n",
    "epochs = 5\n",
    "train_dataloader = testloader\n",
    "test_dataloader = testloader\n",
    "optimizer = torch.optim.SGD\n",
    "optimizer_parameters = {'lr': 0.001}\n",
    "criterion = torch.nn.CrossEntropyLoss()\n",
    "training_method = 'whole_network'\n",
    "\n",
    "# Call the create_networks function\n",
    "networks, train_losses, test_accuracies = create_networks(\n",
    "    model,\n",
    "    input_shape,\n",
    "    thresholds,\n",
    "    neurons_in_exit_layers,\n",
    "    epochs,\n",
    "    train_dataloader,\n",
    "    test_dataloader,\n",
    "    optimizer,\n",
    "    optimizer_parameters,\n",
    "    criterion,\n",
    "    training_method\n",
    ")"
   ]
  },
  {
   "cell_type": "code",
   "execution_count": 8,
   "id": "ef57a9e1-c4e1-4a64-9517-301695f15fad",
   "metadata": {
    "tags": []
   },
   "outputs": [
    {
     "data": {
      "text/plain": [
       "{'exit_0': 31.16, 'exit_1': 26.61, 'exit_2': 32.65}"
      ]
     },
     "execution_count": 8,
     "metadata": {},
     "output_type": "execute_result"
    }
   ],
   "source": [
    "test_accuracies"
   ]
  },
  {
   "cell_type": "code",
   "execution_count": 7,
   "id": "b36d3f7e-aee4-4bd2-948a-429ae0204c96",
   "metadata": {
    "tags": []
   },
   "outputs": [
    {
     "data": {
      "text/plain": [
       "[2.2984901827812196,\n",
       " 2.275150856018066,\n",
       " 2.2249294378757476,\n",
       " 2.1505331762313844,\n",
       " 2.08802056684494]"
      ]
     },
     "execution_count": 7,
     "metadata": {},
     "output_type": "execute_result"
    }
   ],
   "source": [
    "train_losses"
   ]
  }
 ],
 "metadata": {
  "kernelspec": {
   "display_name": "conda_pytorch_p310",
   "language": "python",
   "name": "conda_pytorch_p310"
  },
  "language_info": {
   "codemirror_mode": {
    "name": "ipython",
    "version": 3
   },
   "file_extension": ".py",
   "mimetype": "text/x-python",
   "name": "python",
   "nbconvert_exporter": "python",
   "pygments_lexer": "ipython3",
   "version": "3.10.14"
  }
 },
 "nbformat": 4,
 "nbformat_minor": 5
}
